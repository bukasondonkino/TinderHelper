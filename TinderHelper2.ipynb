{
 "cells": [
  {
   "cell_type": "code",
   "execution_count": 1,
   "metadata": {},
   "outputs": [],
   "source": [
    "import os\n",
    "from langchain_google_genai import ChatGoogleGenerativeAI\n",
    "from langchain_core.prompts import ChatPromptTemplate, MessagesPlaceholder\n",
    "from langchain_core.output_parsers import StrOutputParser\n",
    "from langchain_core.messages import HumanMessage, AIMessage\n",
    "from langchain_core.chat_history import (\n",
    "    BaseChatMessageHistory,\n",
    "    InMemoryChatMessageHistory,\n",
    ")\n",
    "from langchain_core.runnables.history import RunnableWithMessageHistory"
   ]
  },
  {
   "cell_type": "code",
   "execution_count": 2,
   "metadata": {},
   "outputs": [],
   "source": [
    "os.environ[\"GOOGLE_API_KEY\"] = \"GOOGLE_API_KEY\"\n",
    "# os.environ[\"TAVILY_API_KEY\"] = \"Tavily key\""
   ]
  },
  {
   "cell_type": "code",
   "execution_count": 3,
   "metadata": {},
   "outputs": [],
   "source": [
    "llm = ChatGoogleGenerativeAI(\n",
    "    model=\"gemini-1.5-flash\",\n",
    "    temperature=0,\n",
    "    max_tokens=None,\n",
    "    timeout=None,\n",
    "    max_retries=2,\n",
    "    # other params...\n",
    ")"
   ]
  },
  {
   "cell_type": "code",
   "execution_count": 4,
   "metadata": {},
   "outputs": [],
   "source": [
    "store = {}\n",
    "\n",
    "def get_session_history(session_id: str) -> BaseChatMessageHistory:\n",
    "    if session_id not in store:\n",
    "        store[session_id] = InMemoryChatMessageHistory()\n",
    "    return store[session_id]"
   ]
  },
  {
   "cell_type": "code",
   "execution_count": 6,
   "metadata": {},
   "outputs": [],
   "source": [
    "prompt = ChatPromptTemplate.from_messages(\n",
    "    [\n",
    "        (\n",
    "            \"system\",\n",
    "            \"\"\"\n",
    "                you are a helpful assistant. \n",
    "                I am talking to a stranger online and I want the conversation to be friendly and funny\n",
    "                suggest different replies to these messages to make it an engaging task\n",
    "            \"\"\",\n",
    "        ),\n",
    "        MessagesPlaceholder(variable_name=\"messages\"),\n",
    "    ]\n",
    ")"
   ]
  },
  {
   "cell_type": "code",
   "execution_count": 7,
   "metadata": {},
   "outputs": [],
   "source": [
    "chain = prompt | llm"
   ]
  },
  {
   "cell_type": "code",
   "execution_count": 8,
   "metadata": {},
   "outputs": [],
   "source": [
    "with_message_history = RunnableWithMessageHistory(\n",
    "    chain,\n",
    "    get_session_history,\n",
    "    input_messages_key=\"messages\",\n",
    ")"
   ]
  },
  {
   "cell_type": "code",
   "execution_count": 9,
   "metadata": {},
   "outputs": [],
   "source": [
    "config = {\"configurable\": {\"session_id\": \"abc11\"}}"
   ]
  },
  {
   "cell_type": "code",
   "execution_count": 11,
   "metadata": {},
   "outputs": [
    {
     "data": {
      "text/plain": [
       "'Here are some friendly and funny replies to \"hello how are you doing\":\\n\\n**Playful:**\\n\\n* \"I\\'m doing great, thanks for asking! How about you? Are you ready for some epic online banter?\"\\n* \"Just surviving another day in the digital jungle. How about you? Any exciting adventures planned?\"\\n* \"I\\'m doing better than a one-legged man in a kicking contest. How about you?\"\\n\\n**Genuine:**\\n\\n* \"Hey! I\\'m doing well, thanks for asking. How are you?\"\\n* \"I\\'m good, thanks! Just chilling and catching up on some online shenanigans. What about you?\"\\n* \"I\\'m doing alright, just trying to avoid the existential dread of the internet. How are you holding up?\"\\n\\n**Humorous:**\\n\\n* \"I\\'m doing fantastic! I just invented a new way to fold laundry that\\'s guaranteed to make you jealous.  You\\'ll have to wait for the patent though.\"\\n* \"I\\'m doing great, thanks for asking! I\\'m currently training my pet goldfish to do tricks. He\\'s not very good at it yet, but he\\'s got the spirit.\"\\n* \"I\\'m doing well, but I\\'m starting to think my cat is plotting against me.  He keeps staring at me with that judging look.\"\\n\\nRemember to tailor your response to the person you\\'re talking to and the overall tone of the conversation.  Have fun! \\n'"
      ]
     },
     "execution_count": 11,
     "metadata": {},
     "output_type": "execute_result"
    }
   ],
   "source": [
    "response = with_message_history.invoke(\n",
    "    {\"messages\": [HumanMessage(content=\"hello how are you doing\")]},\n",
    "    config=config,\n",
    ")\n",
    "\n",
    "response.content"
   ]
  },
  {
   "cell_type": "code",
   "execution_count": 12,
   "metadata": {},
   "outputs": [
    {
     "name": "stdout",
     "output_type": "stream",
     "text": [
      "AI: Okay, I'm ready for your message!  Give me the message you want to reply to, and I'll come up with some fun and friendly options for you. 😊 \n",
      "\n",
      "\n",
      "AI: Okay, here are some fun and friendly replies to \"hey are you doing\":\n",
      "\n",
      "**Short & Sweet:**\n",
      "\n",
      "* \"Hey! I'm doing great, how about you?\"\n",
      "* \"Just chilling, you?\"\n",
      "* \"Hey there!  Doing well, thanks for asking.\"\n",
      "\n",
      "**Playful:**\n",
      "\n",
      "* \"I'm doing better than a sloth on a treadmill. How about you?\"\n",
      "* \"Surviving another day in the digital world.  What about you?\"\n",
      "* \"I'm doing great, but I'm starting to think my cat is plotting against me.  He keeps staring at me with that judging look.\"\n",
      "\n",
      "**Humorous:**\n",
      "\n",
      "* \"I'm doing fantastic! I just invented a new way to fold laundry that's guaranteed to make you jealous.  You'll have to wait for the patent though.\"\n",
      "* \"I'm doing great, thanks for asking! I'm currently training my pet goldfish to do tricks. He's not very good at it yet, but he's got the spirit.\"\n",
      "* \"I'm doing well, but I'm starting to think my cat is plotting against me.  He keeps staring at me with that judging look.\"\n",
      "\n",
      "Remember to tailor your response to the person you're talking to and the overall tone of the conversation.  Have fun! \n",
      "\n",
      "\n",
      "AI: Okay, here are some fun and friendly replies to \"hey how are you doing\":\n",
      "\n",
      "**Short & Sweet:**\n",
      "\n",
      "* \"Hey! I'm doing great, how about you?\"\n",
      "* \"Just chilling, you?\"\n",
      "* \"Hey there!  Doing well, thanks for asking.\"\n",
      "\n",
      "**Playful:**\n",
      "\n",
      "* \"I'm doing better than a sloth on a treadmill. How about you?\"\n",
      "* \"Surviving another day in the digital world.  What about you?\"\n",
      "* \"I'm doing great, but I'm starting to think my cat is plotting against me.  He keeps staring at me with that judging look.\"\n",
      "\n",
      "**Humorous:**\n",
      "\n",
      "* \"I'm doing fantastic! I just invented a new way to fold laundry that's guaranteed to make you jealous.  You'll have to wait for the patent though.\"\n",
      "* \"I'm doing great, thanks for asking! I'm currently training my pet goldfish to do tricks. He's not very good at it yet, but he's got the spirit.\"\n",
      "* \"I'm doing well, but I'm starting to think my cat is plotting against me.  He keeps staring at me with that judging look.\"\n",
      "\n",
      "**Adding a Question:**\n",
      "\n",
      "* \"Hey! I'm doing great, thanks for asking.  What about you?  Anything exciting happening today?\"\n",
      "* \"Just surviving another day in the digital jungle. How about you? Any exciting adventures planned?\"\n",
      "\n",
      "Remember to tailor your response to the person you're talking to and the overall tone of the conversation.  Have fun! \n",
      "\n",
      "\n",
      "AI: Okay, here are some fun and friendly replies to \"Hey how are you\":\n",
      "\n",
      "**Short & Sweet:**\n",
      "\n",
      "* \"Hey! I'm doing great, how about you?\"\n",
      "* \"Just chilling, you?\"\n",
      "* \"Hey there!  Doing well, thanks for asking.\"\n",
      "\n",
      "**Playful:**\n",
      "\n",
      "* \"I'm doing better than a sloth on a treadmill. How about you?\"\n",
      "* \"Surviving another day in the digital world.  What about you?\"\n",
      "* \"I'm doing great, but I'm starting to think my cat is plotting against me.  He keeps staring at me with that judging look.\"\n",
      "\n",
      "**Humorous:**\n",
      "\n",
      "* \"I'm doing fantastic! I just invented a new way to fold laundry that's guaranteed to make you jealous.  You'll have to wait for the patent though.\"\n",
      "* \"I'm doing great, thanks for asking! I'm currently training my pet goldfish to do tricks. He's not very good at it yet, but he's got the spirit.\"\n",
      "* \"I'm doing well, but I'm starting to think my cat is plotting against me.  He keeps staring at me with that judging look.\"\n",
      "\n",
      "**Adding a Question:**\n",
      "\n",
      "* \"Hey! I'm doing great, thanks for asking.  What about you?  Anything exciting happening today?\"\n",
      "* \"Just surviving another day in the digital jungle. How about you? Any exciting adventures planned?\"\n",
      "\n",
      "**Adding a Bit of Personality:**\n",
      "\n",
      "* \"Hey! I'm doing great, thanks for asking.  Just trying to avoid the existential dread of the internet.  How about you?\"\n",
      "* \"I'm doing alright, just trying to figure out how to make my cat understand that I'm not a scratching post.  How are you?\"\n",
      "\n",
      "Remember to tailor your response to the person you're talking to and the overall tone of the conversation.  Have fun! \n",
      "\n",
      "\n",
      "AI: That's awesome to hear!  I'm glad you're doing great.  \n",
      "\n",
      "Now, tell me more!  What's making your day so great?  😊 \n",
      "\n",
      "\n",
      "AI: That's awesome to hear!  I'm glad you're doing great.  \n",
      "\n",
      "Now, tell me more!  What's making your day so great?  😊 \n",
      "\n",
      "\n",
      "AI: Ah, the classic \"nothing\" response!  I get it.  Sometimes, just being chill and doing nothing is the best thing ever.  \n",
      "\n",
      "So, what's your plan for the rest of the day?  Any exciting plans to do absolutely nothing?  😉 \n",
      "\n",
      "\n",
      "AI: Okay, I'm ready for your message!  Give me the message you want to reply to, and I'll come up with some fun and friendly options for you. 😊 \n",
      "\n",
      "\n",
      "\n",
      "\n",
      "AI: Okay, I'm ready for your message!  Give me the message you want to reply to, and I'll come up with some fun and friendly options for you. 😊 \n",
      "\n",
      "I'm waiting to hear from you!  Let's keep this conversation going.  😉 \n",
      "\n",
      "\n",
      "Goodbye!\n"
     ]
    }
   ],
   "source": [
    "while True:\n",
    "    user_input = input(\"User: \")\n",
    "    if user_input.lower() in [\"quit\", \"exit\", \"q\"]:\n",
    "        print(\"Goodbye!\")\n",
    "        break\n",
    "    # conversational_rag_chain.invoke(\n",
    "    # {\"input\": user_input},\n",
    "    # config={\n",
    "    #     \"configurable\": {\"session_id\": \"abc123\"}\n",
    "    # },  # constructs a key \"abc123\" in `store`.\n",
    "    # )[\"answer\"]\n",
    "    with_message_history.invoke(\n",
    "        {\"messages\": [HumanMessage(content=user_input)]},\n",
    "        config=config,\n",
    "    )\n",
    "    for message in store[\"abc11\"].messages:\n",
    "        if isinstance(message, AIMessage):\n",
    "            prefix = \"AI\"\n",
    "        else:\n",
    "            prefix = \"User\"\n",
    "    \n",
    "    print(f\"{prefix}: {message.content}\\n\")"
   ]
  },
  {
   "cell_type": "code",
   "execution_count": 13,
   "metadata": {},
   "outputs": [
    {
     "data": {
      "text/plain": [
       "4"
      ]
     },
     "execution_count": 13,
     "metadata": {},
     "output_type": "execute_result"
    }
   ],
   "source": []
  },
  {
   "cell_type": "code",
   "execution_count": null,
   "metadata": {},
   "outputs": [],
   "source": []
  }
 ],
 "metadata": {
  "kernelspec": {
   "display_name": "py310",
   "language": "python",
   "name": "python3"
  },
  "language_info": {
   "codemirror_mode": {
    "name": "ipython",
    "version": 3
   },
   "file_extension": ".py",
   "mimetype": "text/x-python",
   "name": "python",
   "nbconvert_exporter": "python",
   "pygments_lexer": "ipython3",
   "version": "3.10.14"
  }
 },
 "nbformat": 4,
 "nbformat_minor": 2
}
